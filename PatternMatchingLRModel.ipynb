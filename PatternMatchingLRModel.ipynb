{
 "cells": [
  {
   "cell_type": "code",
   "execution_count": 1,
   "id": "82ab2635",
   "metadata": {},
   "outputs": [],
   "source": [
    "import numpy as np\n",
    "import matplotlib.pyplot as plt\n",
    "import jax\n",
    "import jax.numpy as jnp"
   ]
  },
  {
   "cell_type": "code",
   "execution_count": 2,
   "id": "2195e0ed",
   "metadata": {},
   "outputs": [],
   "source": [
    "processed_dataset  = \"processed_data\""
   ]
  },
  {
   "cell_type": "markdown",
   "id": "830e421a",
   "metadata": {},
   "source": [
    "# Loading npy(s)"
   ]
  },
  {
   "cell_type": "code",
   "execution_count": 3,
   "id": "7060b15d",
   "metadata": {},
   "outputs": [
    {
     "name": "stdout",
     "output_type": "stream",
     "text": [
      "Caricamento training set...\n",
      "10 su 101\n",
      "20 su 101\n",
      "30 su 101\n",
      "40 su 101\n",
      "50 su 101\n",
      "60 su 101\n",
      "70 su 101\n",
      "80 su 101\n",
      "90 su 101\n",
      "100 su 101\n"
     ]
    }
   ],
   "source": [
    "from scipy.ndimage import zoom\n",
    "import os\n",
    "N = len(next(os.walk(\"%s/voxelizations\" % processed_dataset))[2])\n",
    "\n",
    "\n",
    "# carico il training set\n",
    "print(\"Caricamento training set...\")\n",
    "\n",
    "voxelizations      = []\n",
    "voxelization_specs = []\n",
    "centers_of_mass    = []\n",
    "finger_prints      = []\n",
    "\n",
    "\n",
    "for i in range(N):\n",
    "    voxelization       = jnp.array(np.load(\"%s/voxelizations/voxelization_%d.npy\"           % (processed_dataset,i)))\n",
    "    voxelization_spec  = jnp.array(np.load(\"%s/voxelization_specs/voxelization_spec_%d.npy\" % (processed_dataset,i)))\n",
    "    center_of_mass     = jnp.array(np.load(\"%s/centers_of_mass/center_of_mass_%d.npy\"       % (processed_dataset,i)))\n",
    "    finger_print       = jnp.array(np.load(\"%s/finger_prints/finger_print_%d.npy\"           % (processed_dataset,i)))\n",
    "    \n",
    "    voxelization_specs.append(voxelization_spec)\n",
    "    voxelizations.append(zoom(voxelization,(0.5,0.5,0.5)))\n",
    "    centers_of_mass.append(center_of_mass)\n",
    "    finger_prints.append(finger_print)\n",
    "    \n",
    "    if int( i / (N / 10)) != int( (i + 1)/ (N/10) ):\n",
    "        print(\"%d su %d\" % (i , N))"
   ]
  },
  {
   "cell_type": "code",
   "execution_count": 4,
   "id": "49f74cc4",
   "metadata": {},
   "outputs": [
    {
     "data": {
      "text/plain": [
       "array([37, 33, 40])"
      ]
     },
     "execution_count": 4,
     "metadata": {},
     "output_type": "execute_result"
    }
   ],
   "source": [
    "shapes      = np.array([ np.array(a.shape) for a in voxelizations ])\n",
    "magic_shape = shapes.max(axis = 0)\n",
    "magic_shape"
   ]
  },
  {
   "cell_type": "markdown",
   "id": "0355a36b",
   "metadata": {},
   "source": [
    "## Conversione dei dati caricati in formato array"
   ]
  },
  {
   "cell_type": "code",
   "execution_count": 5,
   "id": "ad919ba2",
   "metadata": {},
   "outputs": [],
   "source": [
    "voxelizations       = [ jnp.array(o) for o in voxelizations      ]\n",
    "voxelization_specs  = [ jnp.array(o) for o in voxelization_specs ]\n",
    "centers_of_mass     = [ jnp.array(o) for o in centers_of_mass    ]\n",
    "finger_prints       = [ jnp.array(o) for o in finger_prints      ]"
   ]
  },
  {
   "cell_type": "markdown",
   "id": "5175f9dc",
   "metadata": {},
   "source": [
    "# Center of mass gaussianization"
   ]
  },
  {
   "cell_type": "code",
   "execution_count": 6,
   "id": "5dc80d26",
   "metadata": {},
   "outputs": [],
   "source": [
    "def center_of_mass_gaussianization(\n",
    "        com,                      # centro di massa\n",
    "        voxelization_orig_shape , # dimensione della voxelizzazione prima di essere paddata\n",
    "        voxelization_specs      , # specifiche geometriche della voxelizzazioen (xmin,xmax,ymin,ymax,zmin,zmax)\n",
    "        sigma = 5.                # deviazione standard della gaussiana\n",
    "):\n",
    "    # ritorna una voxelgrid in cui il centro di massa é rappresentato attraverso una gaussiana \n",
    "    # di varianza sigma_sq\n",
    "    \n",
    "    grid = np.zeros((voxelization_orig_shape[0],\n",
    "                     voxelization_orig_shape[1],\n",
    "                     voxelization_orig_shape[2]))\n",
    "    \n",
    "    x_min,x_max,y_min,y_max,z_min,z_max = voxelization_specs\n",
    "\n",
    "    X   = jnp.linspace(x_min,x_max, voxelization_orig_shape[0])\n",
    "    Y   = jnp.linspace(y_min,y_max, voxelization_orig_shape[1])\n",
    "    Z   = jnp.linspace(z_min,z_max, voxelization_orig_shape[2])\n",
    "    \n",
    "    # faccio il meshgrid dei linspace\n",
    "    XYZ = jnp.meshgrid(X,Y,Z, indexing = 'ij')\n",
    "\n",
    "    \n",
    "    grid =  jax.vmap(\n",
    "                        lambda x,y,z: \n",
    "                            jnp.exp( - (\n",
    "                                        (x - com[0])**2 +      \n",
    "                                        (y - com[1])**2 + \n",
    "                                        (z - com[2])**2\n",
    "                                       ) / (sigma**2)           # divido per la varianza\n",
    "                                   )\n",
    "                    )(XYZ[0],\n",
    "                      XYZ[1],\n",
    "                      XYZ[2])\n",
    "\n",
    "\n",
    "    grid = np.array(grid)\n",
    "    return grid\n",
    "    "
   ]
  },
  {
   "cell_type": "code",
   "execution_count": 7,
   "id": "1516f536",
   "metadata": {
    "scrolled": true
   },
   "outputs": [
    {
     "data": {
      "text/plain": [
       "DeviceArray([-1.307, 26.864, -9.073, 20.774, 13.342, 41.422], dtype=float32)"
      ]
     },
     "execution_count": 7,
     "metadata": {},
     "output_type": "execute_result"
    }
   ],
   "source": [
    "voxelization_specs[0]"
   ]
  },
  {
   "cell_type": "markdown",
   "id": "f2b341c3",
   "metadata": {},
   "source": [
    "### Costruisco il dataset dei centri di massa"
   ]
  },
  {
   "cell_type": "code",
   "execution_count": 8,
   "id": "c7223f43",
   "metadata": {
    "scrolled": false
   },
   "outputs": [
    {
     "data": {
      "text/plain": [
       "<matplotlib.image.AxesImage at 0x22864ee2970>"
      ]
     },
     "execution_count": 8,
     "metadata": {},
     "output_type": "execute_result"
    },
    {
     "data": {
      "image/png": "[encoded data removed]",
      "text/plain": [
       "<Figure size 640x480 with 1 Axes>"
      ]
     },
     "metadata": {},
     "output_type": "display_data"
    }
   ],
   "source": [
    "coms = [\n",
    "    center_of_mass_gaussianization(\n",
    "    centers_of_mass[i],\n",
    "    voxelizations[i].shape,\n",
    "    voxelization_specs[i],\n",
    "    3.\n",
    "    )\n",
    "    \n",
    "    for i in range(len(voxelizations))\n",
    "]\n",
    "plt.imshow(coms[0].mean(axis = 0))"
   ]
  },
  {
   "cell_type": "markdown",
   "id": "b8ffffaa",
   "metadata": {},
   "source": [
    "# Padding"
   ]
  },
  {
   "cell_type": "code",
   "execution_count": 9,
   "id": "b9b227eb",
   "metadata": {},
   "outputs": [],
   "source": [
    "def padding(array, requested_shape):\n",
    "    xx = requested_shape[0]\n",
    "    yy = requested_shape[1]\n",
    "    zz = requested_shape[2]\n",
    "    \n",
    "    sa = array.shape[0]\n",
    "    sb = array.shape[1]\n",
    "    sc = array.shape[2] \n",
    "    \n",
    "    a = (xx - sa) // 2\n",
    "    aa = xx - a - sa\n",
    "    b = (yy - sb) // 2\n",
    "    bb = yy - b - sb\n",
    "    c = (zz - sc) // 2\n",
    "    cc = zz - c - sc\n",
    "    \n",
    "    return jnp.pad(array, pad_width=((a, aa), (b, bb), (c,cc)), mode='constant')"
   ]
  },
  {
   "cell_type": "markdown",
   "id": "24d5fc2c",
   "metadata": {},
   "source": [
    "# GridDecomp"
   ]
  },
  {
   "cell_type": "code",
   "execution_count": 10,
   "id": "30eecfd2",
   "metadata": {},
   "outputs": [],
   "source": [
    "import jax\n",
    "import jax.numpy as jnp\n",
    "from jax import lax\n",
    "from jax.lax import dynamic_slice\n",
    "\n",
    "def conv3D(grid,W):\n",
    "    G = grid.copy()\n",
    "    def relu(x):\n",
    "        return jnp.maximum(0,x)\n",
    "    \n",
    "    # put zeros \"around\"\n",
    "    G = jnp.pad(G,int(W.shape[0]/2))\n",
    "    \n",
    "    G = jax.vmap(\n",
    "            lambda i:\n",
    "            jax.vmap(\n",
    "                lambda j:\n",
    "                jax.vmap(\n",
    "                    lambda k:\n",
    "                        ( \n",
    "                                (dynamic_slice( G,(i - int(W.shape[0] / 2.) , j - int(W.shape[1] / 2.), k - int(W.shape[2] / 2.)) , \n",
    "                                      (W.shape[0],W.shape[1],W.shape[2]) ) * W).mean()\n",
    "                        )\n",
    "                )( jnp.arange( int(W.shape[2] / 2.) ,G.shape[2] - int(W.shape[2] / 2.)).astype(int) )\n",
    "            )( jnp.arange( int(W.shape[1] / 2.), G.shape[1] - int(W.shape[1] / 2.)).astype(int) )\n",
    "        )( jnp.arange( int(W.shape[0] / 2.), G.shape[0] - int(W.shape[0] / 2.)).astype(int) )\n",
    "        \n",
    "    return G\n",
    "conv3D = jax.jit(conv3D)"
   ]
  },
  {
   "cell_type": "code",
   "execution_count": 100,
   "id": "84261ab8",
   "metadata": {},
   "outputs": [
    {
     "name": "stdout",
     "output_type": "stream",
     "text": [
      "0\n",
      "1\n",
      "2\n",
      "3\n",
      "4\n",
      "5\n",
      "6\n",
      "7\n",
      "8\n",
      "9\n",
      "10\n",
      "11\n",
      "12\n",
      "13\n",
      "14\n",
      "15\n",
      "16\n",
      "17\n",
      "18\n",
      "19\n",
      "20\n",
      "21\n",
      "22\n",
      "23\n",
      "24\n",
      "25\n",
      "26\n",
      "27\n",
      "28\n",
      "29\n",
      "30\n",
      "31\n",
      "32\n",
      "33\n",
      "34\n",
      "35\n",
      "36\n",
      "37\n",
      "38\n",
      "39\n",
      "40\n",
      "41\n",
      "42\n",
      "43\n",
      "44\n",
      "45\n",
      "46\n",
      "47\n",
      "48\n",
      "49\n",
      "50\n",
      "51\n",
      "52\n",
      "53\n",
      "54\n",
      "55\n",
      "56\n",
      "57\n",
      "58\n",
      "59\n",
      "60\n",
      "61\n",
      "62\n",
      "63\n",
      "64\n",
      "65\n",
      "66\n",
      "67\n",
      "68\n",
      "69\n",
      "70\n",
      "71\n",
      "72\n",
      "73\n",
      "74\n",
      "75\n",
      "76\n",
      "77\n",
      "78\n",
      "79\n",
      "80\n",
      "81\n",
      "82\n",
      "83\n",
      "84\n",
      "85\n",
      "86\n",
      "87\n",
      "88\n",
      "89\n",
      "90\n",
      "91\n",
      "92\n",
      "93\n",
      "94\n",
      "95\n",
      "96\n",
      "97\n",
      "98\n",
      "99\n",
      "100\n",
      "((29421, 20, 20, 20), (29421,)) ((7189, 20, 20, 20), (7189,))\n"
     ]
    }
   ],
   "source": [
    "X = []\n",
    "Y = []\n",
    "n   = 10\n",
    "for i,v in enumerate(voxelizations):\n",
    "    print(i)\n",
    "    for j in range(n , v.shape[0] - n):\n",
    "        for k in range(n, v.shape[1] - n):\n",
    "            for l in range(n, v.shape[2] - n):\n",
    "                X.append( v[j - n : j + n, k - n : k + n , l - n : l + n] )\n",
    "                Y.append( coms[i][j,k,l] )\n",
    "X = jnp.array(X)\n",
    "Y = jnp.array(Y)\n",
    "\n",
    "indici_train = np.random.choice(2,size = len(X), p = [0.2,0.8]) == 1\n",
    "X_train = X[indici_train]\n",
    "X_test  = X[~indici_train]\n",
    "Y_train = Y[indici_train]\n",
    "Y_test  = Y[~indici_train]\n",
    "print( (X_train.shape, Y_train.shape), (X_test.shape, Y_test.shape) )"
   ]
  },
  {
   "cell_type": "code",
   "execution_count": 104,
   "id": "052144aa",
   "metadata": {},
   "outputs": [
    {
     "name": "stderr",
     "output_type": "stream",
     "text": [
      "C:\\Users\\Luca\\anaconda3\\lib\\site-packages\\sklearn\\linear_model\\_logistic.py:814: ConvergenceWarning: lbfgs failed to converge (status=1):\n",
      "STOP: TOTAL NO. of ITERATIONS REACHED LIMIT.\n",
      "\n",
      "Increase the number of iterations (max_iter) or scale the data as shown in:\n",
      "    https://scikit-learn.org/stable/modules/preprocessing.html\n",
      "Please also refer to the documentation for alternative solver options:\n",
      "    https://scikit-learn.org/stable/modules/linear_model.html#logistic-regression\n",
      "  n_iter_i = _check_optimize_result(\n"
     ]
    }
   ],
   "source": [
    "X_ = X_train.reshape(-1, np.prod(X.shape[1:]))\n",
    "from sklearn.linear_model import LogisticRegression\n",
    "clf = LogisticRegression(random_state=0, max_iter = 200).fit(X_, Y_train > 0.7)"
   ]
  },
  {
   "cell_type": "code",
   "execution_count": 105,
   "id": "61d188dc",
   "metadata": {},
   "outputs": [],
   "source": [
    "X_test_ = X_test.reshape(-1, np.prod(X.shape[1:]))\n",
    "Y_test_pred = clf.predict(X_test_)"
   ]
  },
  {
   "cell_type": "code",
   "execution_count": 164,
   "id": "2142511a",
   "metadata": {},
   "outputs": [
    {
     "data": {
      "text/plain": [
       "<AxesSubplot:>"
      ]
     },
     "execution_count": 164,
     "metadata": {},
     "output_type": "execute_result"
    },
    {
     "data": {
      "image/png": "[encoded data removed]",
      "text/plain": [
       "<Figure size 640x480 with 2 Axes>"
      ]
     },
     "metadata": {},
     "output_type": "display_data"
    }
   ],
   "source": [
    "from sklearn.metrics import confusion_matrix\n",
    "CM = confusion_matrix(Y_test > 0.7, Y_test_pred, normalize='true')\n",
    "import seaborn as sns\n",
    "sns.heatmap(CM, annot = True)"
   ]
  },
  {
   "cell_type": "markdown",
   "id": "e2d3bea1",
   "metadata": {},
   "source": [
    "# Reconstruct"
   ]
  },
  {
   "cell_type": "code",
   "execution_count": 165,
   "id": "da436c61",
   "metadata": {},
   "outputs": [
    {
     "data": {
      "text/plain": [
       "<matplotlib.image.AxesImage at 0x22a24110280>"
      ]
     },
     "execution_count": 165,
     "metadata": {},
     "output_type": "execute_result"
    },
    {
     "data": {
      "image/png": "[encoded data removed]",
      "text/plain": [
       "<Figure size 640x480 with 1 Axes>"
      ]
     },
     "metadata": {},
     "output_type": "display_data"
    },
    {
     "data": {
      "image/png": "[encoded data removed]",
      "text/plain": [
       "<Figure size 640x480 with 1 Axes>"
      ]
     },
     "metadata": {},
     "output_type": "display_data"
    }
   ],
   "source": [
    "def reconstruct(v):\n",
    "    n   = 10\n",
    "    ret = np.zeros((v.shape[0], v.shape[1], v.shape[2]))\n",
    "    for j in range(n , v.shape[0] - n):\n",
    "        for k in range(n, v.shape[1] - n):\n",
    "            for l in range(n, v.shape[2] - n):\n",
    "                X_curr  = v[j - n : j + n, k - n : k + n , l - n : l + n].flatten()\n",
    "                ret[j,k,l] = clf.predict(X_curr[None,:])[0]\n",
    "    return ret\n",
    "\n",
    "n = 13\n",
    "plt.imshow( reconstruct(voxelizations[n]).max(axis = 0) )\n",
    "plt.figure()\n",
    "plt.imshow( (coms[n]).max(axis = 0) )"
   ]
  },
  {
   "cell_type": "markdown",
   "id": "aa45d330",
   "metadata": {},
   "source": [
    "### Prova su translazioni"
   ]
  },
  {
   "cell_type": "code",
   "execution_count": 109,
   "id": "1efbc83c",
   "metadata": {},
   "outputs": [],
   "source": [
    "class Translation:\n",
    "    def __init__(self,vox):\n",
    "        vox_mean      = (np.array(vox.shape) / 2).astype(int)\n",
    "        self.r_vector = ((np.random.uniform(size = len(vox.shape)) * 2 - 1.)*3).astype(int)\n",
    "\n",
    "    def __call__(self, x):\n",
    "        r_x = self.r_vector[0]\n",
    "        r_y = self.r_vector[1]\n",
    "        r_z = self.r_vector[2]\n",
    "\n",
    "        v_x = x.shape[0]\n",
    "        v_y = x.shape[1]\n",
    "        v_z = x.shape[2]\n",
    "\n",
    "\n",
    "        if r_x > 0:    # traslazione positiva\n",
    "            x = jnp.concatenate([x, jnp.zeros((r_x,v_y,v_z))], axis = 0)\n",
    "            x = x[r_x:,:,:]\n",
    "        else:          # traslazione negativa\n",
    "            if r_x < 0:\n",
    "                r_x *= -1\n",
    "                x = jnp.concatenate([jnp.zeros((r_x,v_y,v_z)), x], axis = 0)\n",
    "                x = x[:-r_x,:,:]       \n",
    "\n",
    "        if r_y > 0:\n",
    "            x = jnp.concatenate([x, jnp.zeros((v_x,r_y,v_z))], axis = 1)\n",
    "            x = x[:,r_y:,:]\n",
    "        else:\n",
    "            if r_y < 0:\n",
    "                r_y *= -1\n",
    "                x = jnp.concatenate([jnp.zeros((v_x,r_y,v_z)),x], axis = 1)\n",
    "                x = x[:,:-r_y,:]    \n",
    "\n",
    "        if r_z > 0:\n",
    "            x = jnp.concatenate([x, jnp.zeros((v_x,v_y,r_z))], axis = 2)\n",
    "            x = x[:,:,r_z:]\n",
    "        else:\n",
    "            if r_z < 0:\n",
    "                r_z *= -1\n",
    "                x = jnp.concatenate([jnp.zeros((v_x,v_y,r_z)), x], axis = 2)\n",
    "                x = x[:,:,:-r_z]\n",
    "\n",
    "        return x"
   ]
  },
  {
   "cell_type": "code",
   "execution_count": 110,
   "id": "a6d9bb2a",
   "metadata": {},
   "outputs": [],
   "source": [
    "import matplotlib\n",
    "highlightermap = matplotlib.colors.LinearSegmentedColormap.from_list(\"\",[\n",
    "                                                          np.array([1.,0.,0.,0.]),\n",
    "                                                          np.array([1.,0.,0.,1.])]\n",
    "                                                          )"
   ]
  },
  {
   "cell_type": "code",
   "execution_count": 206,
   "id": "8b839cff",
   "metadata": {},
   "outputs": [
    {
     "data": {
      "text/plain": [
       "<matplotlib.image.AxesImage at 0x22a26def3d0>"
      ]
     },
     "execution_count": 206,
     "metadata": {},
     "output_type": "execute_result"
    },
    {
     "data": {
      "image/png": "[encoded data removed]",
      "text/plain": [
       "<Figure size 640x480 with 1 Axes>"
      ]
     },
     "metadata": {},
     "output_type": "display_data"
    }
   ],
   "source": [
    "\n",
    "n = 25\n",
    "T = Translation(voxelizations[n])\n",
    "plt.imshow( T(coms[n]).mean(axis = 0) )\n",
    "plt.imshow( reconstruct(T(voxelizations[n])).mean(axis = 0) , cmap = highlightermap)\n"
   ]
  },
  {
   "cell_type": "code",
   "execution_count": 210,
   "id": "c349fe13",
   "metadata": {},
   "outputs": [
    {
     "data": {
      "image/png": "[encoded data removed]",
      "text/plain": [
       "<Figure size 640x480 with 1 Axes>"
      ]
     },
     "metadata": {},
     "output_type": "display_data"
    }
   ],
   "source": [
    "ax = plt.figure().add_subplot(projection = '3d')\n",
    "ax.voxels(np.array(T(coms[n])) > 0.7, alpha = 0.5) \n",
    "ax.voxels(np.array(reconstruct(T(voxelizations[n]))) > 0.7, alpha = 0.5)\n",
    "plt.show()"
   ]
  },
  {
   "cell_type": "code",
   "execution_count": null,
   "id": "cba4045a",
   "metadata": {},
   "outputs": [],
   "source": []
  }
 ],
 "metadata": {
  "kernelspec": {
   "display_name": "Python 3 (ipykernel)",
   "language": "python",
   "name": "python3"
  },
  "language_info": {
   "codemirror_mode": {
    "name": "ipython",
    "version": 3
   },
   "file_extension": ".py",
   "mimetype": "text/x-python",
   "name": "python",
   "nbconvert_exporter": "python",
   "pygments_lexer": "ipython3",
   "version": "3.9.7"
  }
 },
 "nbformat": 4,
 "nbformat_minor": 5
}
